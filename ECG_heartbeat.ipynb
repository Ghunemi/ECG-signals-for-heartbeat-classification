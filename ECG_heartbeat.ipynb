{
  "nbformat": 4,
  "nbformat_minor": 0,
  "metadata": {
    "colab": {
      "provenance": []
    },
    "kernelspec": {
      "name": "python3",
      "display_name": "Python 3"
    },
    "language_info": {
      "name": "python"
    },
    "accelerator": "GPU",
    "gpuClass": "standard"
  },
  "cells": [
    {
      "cell_type": "markdown",
      "source": [
        "# Imports and installing dependancies"
      ],
      "metadata": {
        "id": "JKC9Or3dQD1d"
      }
    },
    {
      "cell_type": "code",
      "source": [
        "!pip install opendatasets"
      ],
      "metadata": {
        "colab": {
          "base_uri": "https://localhost:8080/"
        },
        "id": "BZErH3zA2AM3",
        "outputId": "e14f30f9-6d0e-4be6-d74f-9554a5fbd505"
      },
      "execution_count": null,
      "outputs": [
        {
          "output_type": "stream",
          "name": "stdout",
          "text": [
            "Looking in indexes: https://pypi.org/simple, https://us-python.pkg.dev/colab-wheels/public/simple/\n",
            "Collecting opendatasets\n",
            "  Downloading opendatasets-0.1.22-py3-none-any.whl (15 kB)\n",
            "Requirement already satisfied: kaggle in /usr/local/lib/python3.9/dist-packages (from opendatasets) (1.5.13)\n",
            "Requirement already satisfied: click in /usr/local/lib/python3.9/dist-packages (from opendatasets) (8.1.3)\n",
            "Requirement already satisfied: tqdm in /usr/local/lib/python3.9/dist-packages (from opendatasets) (4.65.0)\n",
            "Requirement already satisfied: python-dateutil in /usr/local/lib/python3.9/dist-packages (from kaggle->opendatasets) (2.8.2)\n",
            "Requirement already satisfied: certifi in /usr/local/lib/python3.9/dist-packages (from kaggle->opendatasets) (2022.12.7)\n",
            "Requirement already satisfied: urllib3 in /usr/local/lib/python3.9/dist-packages (from kaggle->opendatasets) (1.26.15)\n",
            "Requirement already satisfied: requests in /usr/local/lib/python3.9/dist-packages (from kaggle->opendatasets) (2.27.1)\n",
            "Requirement already satisfied: six>=1.10 in /usr/local/lib/python3.9/dist-packages (from kaggle->opendatasets) (1.16.0)\n",
            "Requirement already satisfied: python-slugify in /usr/local/lib/python3.9/dist-packages (from kaggle->opendatasets) (8.0.1)\n",
            "Requirement already satisfied: text-unidecode>=1.3 in /usr/local/lib/python3.9/dist-packages (from python-slugify->kaggle->opendatasets) (1.3)\n",
            "Requirement already satisfied: idna<4,>=2.5 in /usr/local/lib/python3.9/dist-packages (from requests->kaggle->opendatasets) (3.4)\n",
            "Requirement already satisfied: charset-normalizer~=2.0.0 in /usr/local/lib/python3.9/dist-packages (from requests->kaggle->opendatasets) (2.0.12)\n",
            "Installing collected packages: opendatasets\n",
            "Successfully installed opendatasets-0.1.22\n"
          ]
        }
      ]
    },
    {
      "cell_type": "code",
      "source": [
        "import tensorflow as tf\n",
        "from keras.callbacks import EarlyStopping\n",
        "from tensorflow.keras.layers import Dense, Activation, Dropout\n",
        "import opendatasets as od\n",
        "import pandas as pd\n",
        "import numpy as np\n",
        "import matplotlib.pyplot as plt"
      ],
      "metadata": {
        "id": "z7GdpvxSP8Ab"
      },
      "execution_count": null,
      "outputs": []
    },
    {
      "cell_type": "markdown",
      "source": [
        "# Dataset gathering"
      ],
      "metadata": {
        "id": "rCIE-nuJQIeu"
      }
    },
    {
      "cell_type": "code",
      "execution_count": null,
      "metadata": {
        "colab": {
          "base_uri": "https://localhost:8080/"
        },
        "id": "I-QQLhKWz3WX",
        "outputId": "b90bf76b-0870-400e-f271-02bd2b6f8097"
      },
      "outputs": [
        {
          "output_type": "stream",
          "name": "stdout",
          "text": [
            "Downloading heartbeat.zip to ./heartbeat\n"
          ]
        },
        {
          "output_type": "stream",
          "name": "stderr",
          "text": [
            "100%|██████████| 98.8M/98.8M [00:02<00:00, 34.7MB/s]\n"
          ]
        },
        {
          "output_type": "stream",
          "name": "stdout",
          "text": [
            "\n"
          ]
        }
      ],
      "source": [
        "dataset_url = 'https://www.kaggle.com/datasets/shayanfazeli/heartbeat'\n",
        "od.download('https://www.kaggle.com/datasets/shayanfazeli/heartbeat')"
      ]
    },
    {
      "cell_type": "code",
      "source": [
        "df = pd.read_csv('/content/heartbeat/mitbih_train.csv', header=None)\n",
        "df2 = pd.read_csv('/content/heartbeat/mitbih_test.csv', header=None)"
      ],
      "metadata": {
        "id": "ra0w42YZ1-Xy"
      },
      "execution_count": null,
      "outputs": []
    },
    {
      "cell_type": "markdown",
      "source": [
        "# Splitting dataset"
      ],
      "metadata": {
        "id": "t5PGz39zQOay"
      }
    },
    {
      "cell_type": "code",
      "source": [
        "x_train = df.iloc[:,:187]\n",
        "y_train = df.iloc[:,-1]"
      ],
      "metadata": {
        "id": "Bm3kQH7o2jxK"
      },
      "execution_count": null,
      "outputs": []
    },
    {
      "cell_type": "code",
      "source": [
        "x_test = df2.iloc[:,:187]\n",
        "y_test = df2.iloc[:,-1]"
      ],
      "metadata": {
        "id": "URDoGy3n3-sL"
      },
      "execution_count": null,
      "outputs": []
    },
    {
      "cell_type": "markdown",
      "source": [
        "# Model creation"
      ],
      "metadata": {
        "id": "CbWU5MUoQSA_"
      }
    },
    {
      "cell_type": "code",
      "source": [
        "model = tf.keras.Sequential()\n",
        "model.add( tf.keras.layers.Input(shape=[187,]))\n",
        "model.add( tf.keras.layers.Flatten())\n",
        "model.add( tf.keras.layers.Dense(512, activation='relu'))\n",
        "model.add(Dropout(0.4))\n",
        "model.add( tf.keras.layers.Dense(265, activation='relu'))\n",
        "model.add(Dropout(0.4))\n",
        "model.add( tf.keras.layers.Dense(128, activation='relu'))\n",
        "model.add(Dropout(0.4))\n",
        "model.add( tf.keras.layers.Dense(64, activation='relu'))\n",
        "model.add( tf.keras.layers.Dense(5, activation='softmax'))"
      ],
      "metadata": {
        "id": "wj_cmp6b2thy"
      },
      "execution_count": null,
      "outputs": []
    },
    {
      "cell_type": "code",
      "source": [
        "model.compile(loss='sparse_categorical_crossentropy', optimizer='adam', metrics=['accuracy'])"
      ],
      "metadata": {
        "id": "-qJ1uJMf3tZX"
      },
      "execution_count": null,
      "outputs": []
    },
    {
      "cell_type": "code",
      "source": [
        "history = model.fit(x_train, y_train, epochs=150, batch_size=128, validation_data=(x_test, y_test), callbacks = [EarlyStopping(monitor = 'val_loss', patience = 20)])"
      ],
      "metadata": {
        "colab": {
          "base_uri": "https://localhost:8080/"
        },
        "id": "heb791XD33K_",
        "outputId": "1592c814-6e3d-43b0-9f37-756d19d974fc"
      },
      "execution_count": null,
      "outputs": [
        {
          "output_type": "stream",
          "name": "stdout",
          "text": [
            "Epoch 1/150\n",
            "685/685 [==============================] - 6s 4ms/step - loss: 0.3081 - accuracy: 0.9146 - val_loss: 0.1739 - val_accuracy: 0.9506\n",
            "Epoch 2/150\n",
            "685/685 [==============================] - 3s 4ms/step - loss: 0.1884 - accuracy: 0.9470 - val_loss: 0.1532 - val_accuracy: 0.9557\n",
            "Epoch 3/150\n",
            "685/685 [==============================] - 3s 4ms/step - loss: 0.1635 - accuracy: 0.9540 - val_loss: 0.1321 - val_accuracy: 0.9635\n",
            "Epoch 4/150\n",
            "685/685 [==============================] - 3s 5ms/step - loss: 0.1508 - accuracy: 0.9579 - val_loss: 0.1185 - val_accuracy: 0.9670\n",
            "Epoch 5/150\n",
            "685/685 [==============================] - 3s 4ms/step - loss: 0.1359 - accuracy: 0.9621 - val_loss: 0.1152 - val_accuracy: 0.9676\n",
            "Epoch 6/150\n",
            "685/685 [==============================] - 3s 4ms/step - loss: 0.1286 - accuracy: 0.9648 - val_loss: 0.1045 - val_accuracy: 0.9704\n",
            "Epoch 7/150\n",
            "685/685 [==============================] - 3s 4ms/step - loss: 0.1228 - accuracy: 0.9655 - val_loss: 0.1045 - val_accuracy: 0.9709\n",
            "Epoch 8/150\n",
            "685/685 [==============================] - 4s 5ms/step - loss: 0.1194 - accuracy: 0.9670 - val_loss: 0.0997 - val_accuracy: 0.9722\n",
            "Epoch 9/150\n",
            "685/685 [==============================] - 3s 5ms/step - loss: 0.1160 - accuracy: 0.9672 - val_loss: 0.0964 - val_accuracy: 0.9740\n",
            "Epoch 10/150\n",
            "685/685 [==============================] - 3s 4ms/step - loss: 0.1096 - accuracy: 0.9690 - val_loss: 0.0979 - val_accuracy: 0.9741\n",
            "Epoch 11/150\n",
            "685/685 [==============================] - 3s 4ms/step - loss: 0.1080 - accuracy: 0.9699 - val_loss: 0.0920 - val_accuracy: 0.9752\n",
            "Epoch 12/150\n",
            "685/685 [==============================] - 4s 6ms/step - loss: 0.1052 - accuracy: 0.9700 - val_loss: 0.0929 - val_accuracy: 0.9742\n",
            "Epoch 13/150\n",
            "685/685 [==============================] - 3s 4ms/step - loss: 0.1027 - accuracy: 0.9706 - val_loss: 0.0920 - val_accuracy: 0.9752\n",
            "Epoch 14/150\n",
            "685/685 [==============================] - 4s 5ms/step - loss: 0.1017 - accuracy: 0.9705 - val_loss: 0.0872 - val_accuracy: 0.9757\n",
            "Epoch 15/150\n",
            "685/685 [==============================] - 4s 5ms/step - loss: 0.0982 - accuracy: 0.9720 - val_loss: 0.0886 - val_accuracy: 0.9761\n",
            "Epoch 16/150\n",
            "685/685 [==============================] - 3s 5ms/step - loss: 0.0976 - accuracy: 0.9723 - val_loss: 0.0879 - val_accuracy: 0.9751\n",
            "Epoch 17/150\n",
            "685/685 [==============================] - 3s 4ms/step - loss: 0.0944 - accuracy: 0.9733 - val_loss: 0.0871 - val_accuracy: 0.9763\n",
            "Epoch 18/150\n",
            "685/685 [==============================] - 3s 5ms/step - loss: 0.0939 - accuracy: 0.9738 - val_loss: 0.0840 - val_accuracy: 0.9769\n",
            "Epoch 19/150\n",
            "685/685 [==============================] - 3s 5ms/step - loss: 0.0936 - accuracy: 0.9734 - val_loss: 0.0892 - val_accuracy: 0.9757\n",
            "Epoch 20/150\n",
            "685/685 [==============================] - 3s 5ms/step - loss: 0.0889 - accuracy: 0.9741 - val_loss: 0.0875 - val_accuracy: 0.9759\n",
            "Epoch 21/150\n",
            "685/685 [==============================] - 3s 4ms/step - loss: 0.0909 - accuracy: 0.9739 - val_loss: 0.0842 - val_accuracy: 0.9764\n",
            "Epoch 22/150\n",
            "685/685 [==============================] - 3s 5ms/step - loss: 0.0861 - accuracy: 0.9750 - val_loss: 0.0857 - val_accuracy: 0.9768\n",
            "Epoch 23/150\n",
            "685/685 [==============================] - 3s 5ms/step - loss: 0.0859 - accuracy: 0.9747 - val_loss: 0.0836 - val_accuracy: 0.9772\n",
            "Epoch 24/150\n",
            "685/685 [==============================] - 3s 5ms/step - loss: 0.0852 - accuracy: 0.9755 - val_loss: 0.0824 - val_accuracy: 0.9770\n",
            "Epoch 25/150\n",
            "685/685 [==============================] - 3s 4ms/step - loss: 0.0838 - accuracy: 0.9754 - val_loss: 0.0818 - val_accuracy: 0.9770\n",
            "Epoch 26/150\n",
            "685/685 [==============================] - 3s 4ms/step - loss: 0.0816 - accuracy: 0.9764 - val_loss: 0.0858 - val_accuracy: 0.9764\n",
            "Epoch 27/150\n",
            "685/685 [==============================] - 3s 5ms/step - loss: 0.0820 - accuracy: 0.9758 - val_loss: 0.0826 - val_accuracy: 0.9776\n",
            "Epoch 28/150\n",
            "685/685 [==============================] - 3s 5ms/step - loss: 0.0820 - accuracy: 0.9758 - val_loss: 0.0848 - val_accuracy: 0.9779\n",
            "Epoch 29/150\n",
            "685/685 [==============================] - 3s 4ms/step - loss: 0.0809 - accuracy: 0.9764 - val_loss: 0.0833 - val_accuracy: 0.9793\n",
            "Epoch 30/150\n",
            "685/685 [==============================] - 3s 4ms/step - loss: 0.0808 - accuracy: 0.9764 - val_loss: 0.0797 - val_accuracy: 0.9789\n",
            "Epoch 31/150\n",
            "685/685 [==============================] - 3s 5ms/step - loss: 0.0799 - accuracy: 0.9766 - val_loss: 0.0810 - val_accuracy: 0.9782\n",
            "Epoch 32/150\n",
            "685/685 [==============================] - 3s 5ms/step - loss: 0.0785 - accuracy: 0.9773 - val_loss: 0.0837 - val_accuracy: 0.9785\n",
            "Epoch 33/150\n",
            "685/685 [==============================] - 3s 5ms/step - loss: 0.0757 - accuracy: 0.9775 - val_loss: 0.0872 - val_accuracy: 0.9770\n",
            "Epoch 34/150\n",
            "685/685 [==============================] - 3s 5ms/step - loss: 0.0751 - accuracy: 0.9775 - val_loss: 0.0818 - val_accuracy: 0.9780\n",
            "Epoch 35/150\n",
            "685/685 [==============================] - 4s 5ms/step - loss: 0.0762 - accuracy: 0.9775 - val_loss: 0.0773 - val_accuracy: 0.9794\n",
            "Epoch 36/150\n",
            "685/685 [==============================] - 3s 4ms/step - loss: 0.0733 - accuracy: 0.9781 - val_loss: 0.0778 - val_accuracy: 0.9794\n",
            "Epoch 37/150\n",
            "685/685 [==============================] - 3s 4ms/step - loss: 0.0757 - accuracy: 0.9774 - val_loss: 0.0765 - val_accuracy: 0.9795\n",
            "Epoch 38/150\n",
            "685/685 [==============================] - 3s 4ms/step - loss: 0.0724 - accuracy: 0.9784 - val_loss: 0.0794 - val_accuracy: 0.9795\n",
            "Epoch 39/150\n",
            "685/685 [==============================] - 4s 5ms/step - loss: 0.0723 - accuracy: 0.9779 - val_loss: 0.0774 - val_accuracy: 0.9792\n",
            "Epoch 40/150\n",
            "685/685 [==============================] - 3s 5ms/step - loss: 0.0721 - accuracy: 0.9786 - val_loss: 0.0745 - val_accuracy: 0.9804\n",
            "Epoch 41/150\n",
            "685/685 [==============================] - 3s 4ms/step - loss: 0.0700 - accuracy: 0.9791 - val_loss: 0.0811 - val_accuracy: 0.9789\n",
            "Epoch 42/150\n",
            "685/685 [==============================] - 3s 4ms/step - loss: 0.0711 - accuracy: 0.9793 - val_loss: 0.0767 - val_accuracy: 0.9803\n",
            "Epoch 43/150\n",
            "685/685 [==============================] - 4s 5ms/step - loss: 0.0703 - accuracy: 0.9789 - val_loss: 0.0784 - val_accuracy: 0.9799\n",
            "Epoch 44/150\n",
            "685/685 [==============================] - 3s 5ms/step - loss: 0.0707 - accuracy: 0.9785 - val_loss: 0.0795 - val_accuracy: 0.9793\n",
            "Epoch 45/150\n",
            "685/685 [==============================] - 3s 4ms/step - loss: 0.0672 - accuracy: 0.9796 - val_loss: 0.0760 - val_accuracy: 0.9797\n",
            "Epoch 46/150\n",
            "685/685 [==============================] - 3s 4ms/step - loss: 0.0670 - accuracy: 0.9799 - val_loss: 0.0788 - val_accuracy: 0.9797\n",
            "Epoch 47/150\n",
            "685/685 [==============================] - 3s 5ms/step - loss: 0.0671 - accuracy: 0.9795 - val_loss: 0.0801 - val_accuracy: 0.9797\n",
            "Epoch 48/150\n",
            "685/685 [==============================] - 3s 5ms/step - loss: 0.0671 - accuracy: 0.9799 - val_loss: 0.0794 - val_accuracy: 0.9791\n",
            "Epoch 49/150\n",
            "685/685 [==============================] - 3s 4ms/step - loss: 0.0668 - accuracy: 0.9796 - val_loss: 0.0769 - val_accuracy: 0.9813\n",
            "Epoch 50/150\n",
            "685/685 [==============================] - 3s 5ms/step - loss: 0.0676 - accuracy: 0.9795 - val_loss: 0.0777 - val_accuracy: 0.9801\n",
            "Epoch 51/150\n",
            "685/685 [==============================] - 3s 5ms/step - loss: 0.0643 - accuracy: 0.9802 - val_loss: 0.0803 - val_accuracy: 0.9796\n",
            "Epoch 52/150\n",
            "685/685 [==============================] - 3s 5ms/step - loss: 0.0650 - accuracy: 0.9799 - val_loss: 0.0759 - val_accuracy: 0.9804\n",
            "Epoch 53/150\n",
            "685/685 [==============================] - 3s 5ms/step - loss: 0.0632 - accuracy: 0.9808 - val_loss: 0.0777 - val_accuracy: 0.9804\n",
            "Epoch 54/150\n",
            "685/685 [==============================] - 3s 4ms/step - loss: 0.0639 - accuracy: 0.9804 - val_loss: 0.0778 - val_accuracy: 0.9802\n",
            "Epoch 55/150\n",
            "685/685 [==============================] - 4s 6ms/step - loss: 0.0619 - accuracy: 0.9812 - val_loss: 0.0826 - val_accuracy: 0.9800\n",
            "Epoch 56/150\n",
            "685/685 [==============================] - 3s 4ms/step - loss: 0.0644 - accuracy: 0.9807 - val_loss: 0.0793 - val_accuracy: 0.9807\n",
            "Epoch 57/150\n",
            "685/685 [==============================] - 3s 4ms/step - loss: 0.0626 - accuracy: 0.9810 - val_loss: 0.0769 - val_accuracy: 0.9811\n",
            "Epoch 58/150\n",
            "685/685 [==============================] - 3s 4ms/step - loss: 0.0616 - accuracy: 0.9813 - val_loss: 0.0755 - val_accuracy: 0.9809\n",
            "Epoch 59/150\n",
            "685/685 [==============================] - 3s 5ms/step - loss: 0.0613 - accuracy: 0.9809 - val_loss: 0.0719 - val_accuracy: 0.9820\n",
            "Epoch 60/150\n",
            "685/685 [==============================] - 3s 4ms/step - loss: 0.0598 - accuracy: 0.9820 - val_loss: 0.0747 - val_accuracy: 0.9816\n",
            "Epoch 61/150\n",
            "685/685 [==============================] - 3s 5ms/step - loss: 0.0606 - accuracy: 0.9817 - val_loss: 0.0788 - val_accuracy: 0.9805\n",
            "Epoch 62/150\n",
            "685/685 [==============================] - 3s 5ms/step - loss: 0.0606 - accuracy: 0.9814 - val_loss: 0.0760 - val_accuracy: 0.9803\n",
            "Epoch 63/150\n",
            "685/685 [==============================] - 4s 6ms/step - loss: 0.0602 - accuracy: 0.9813 - val_loss: 0.0787 - val_accuracy: 0.9802\n",
            "Epoch 64/150\n",
            "685/685 [==============================] - 3s 4ms/step - loss: 0.0585 - accuracy: 0.9816 - val_loss: 0.0774 - val_accuracy: 0.9812\n",
            "Epoch 65/150\n",
            "685/685 [==============================] - 3s 5ms/step - loss: 0.0601 - accuracy: 0.9817 - val_loss: 0.0821 - val_accuracy: 0.9799\n",
            "Epoch 66/150\n",
            "685/685 [==============================] - 3s 5ms/step - loss: 0.0584 - accuracy: 0.9821 - val_loss: 0.0764 - val_accuracy: 0.9808\n",
            "Epoch 67/150\n",
            "685/685 [==============================] - 4s 5ms/step - loss: 0.0567 - accuracy: 0.9826 - val_loss: 0.0813 - val_accuracy: 0.9807\n",
            "Epoch 68/150\n",
            "685/685 [==============================] - 3s 4ms/step - loss: 0.0584 - accuracy: 0.9823 - val_loss: 0.0737 - val_accuracy: 0.9811\n",
            "Epoch 69/150\n",
            "685/685 [==============================] - 3s 4ms/step - loss: 0.0577 - accuracy: 0.9828 - val_loss: 0.0797 - val_accuracy: 0.9809\n",
            "Epoch 70/150\n",
            "685/685 [==============================] - 3s 4ms/step - loss: 0.0576 - accuracy: 0.9818 - val_loss: 0.0789 - val_accuracy: 0.9814\n",
            "Epoch 71/150\n",
            "685/685 [==============================] - 4s 5ms/step - loss: 0.0573 - accuracy: 0.9825 - val_loss: 0.0778 - val_accuracy: 0.9811\n",
            "Epoch 72/150\n",
            "685/685 [==============================] - 3s 5ms/step - loss: 0.0560 - accuracy: 0.9827 - val_loss: 0.0789 - val_accuracy: 0.9812\n",
            "Epoch 73/150\n",
            "685/685 [==============================] - 3s 5ms/step - loss: 0.0565 - accuracy: 0.9823 - val_loss: 0.0761 - val_accuracy: 0.9808\n",
            "Epoch 74/150\n",
            "685/685 [==============================] - 3s 5ms/step - loss: 0.0552 - accuracy: 0.9828 - val_loss: 0.0784 - val_accuracy: 0.9814\n",
            "Epoch 75/150\n",
            "685/685 [==============================] - 3s 5ms/step - loss: 0.0554 - accuracy: 0.9832 - val_loss: 0.0749 - val_accuracy: 0.9815\n",
            "Epoch 76/150\n",
            "685/685 [==============================] - 3s 5ms/step - loss: 0.0555 - accuracy: 0.9829 - val_loss: 0.0776 - val_accuracy: 0.9809\n",
            "Epoch 77/150\n",
            "685/685 [==============================] - 3s 5ms/step - loss: 0.0594 - accuracy: 0.9814 - val_loss: 0.0765 - val_accuracy: 0.9815\n",
            "Epoch 78/150\n",
            "685/685 [==============================] - 3s 5ms/step - loss: 0.0549 - accuracy: 0.9834 - val_loss: 0.0787 - val_accuracy: 0.9815\n",
            "Epoch 79/150\n",
            "685/685 [==============================] - 3s 5ms/step - loss: 0.0534 - accuracy: 0.9831 - val_loss: 0.0828 - val_accuracy: 0.9815\n"
          ]
        }
      ]
    },
    {
      "cell_type": "markdown",
      "source": [
        "#Evaluation"
      ],
      "metadata": {
        "id": "t3w1rWBmQV7Q"
      }
    },
    {
      "cell_type": "code",
      "source": [
        "def plot_train_history_loss(history):\n",
        "    # summarize history for loss\n",
        "    plt.plot(history.history['loss'])\n",
        "    plt.plot(history.history['val_loss'])\n",
        "    plt.title('model loss')\n",
        "    plt.ylabel('loss')\n",
        "    plt.xlabel('epoch')\n",
        "    plt.legend(['train', 'test'], loc='upper right')\n",
        "    plt.show()\n",
        "\n",
        "plot_train_history_loss(history)"
      ],
      "metadata": {
        "colab": {
          "base_uri": "https://localhost:8080/",
          "height": 295
        },
        "id": "xfLhQ-kD5BN3",
        "outputId": "91d332b8-12e6-4fad-db4f-49e1c5e0706d"
      },
      "execution_count": null,
      "outputs": [
        {
          "output_type": "display_data",
          "data": {
            "text/plain": [
              "<Figure size 432x288 with 1 Axes>"
            ],
            "image/png": "[encoded data removed]"
          },
          "metadata": {
            "needs_background": "light"
          }
        }
      ]
    },
    {
      "cell_type": "code",
      "source": [],
      "metadata": {
        "id": "2RFqEqS76kY0"
      },
      "execution_count": null,
      "outputs": []
    }
  ]
}